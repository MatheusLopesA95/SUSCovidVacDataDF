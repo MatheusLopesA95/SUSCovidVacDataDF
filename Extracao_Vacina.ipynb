{
 "cells": [
  {
   "cell_type": "code",
   "execution_count": 1,
   "metadata": {},
   "outputs": [],
   "source": [
    "import pandas as pd"
   ]
  },
  {
   "cell_type": "code",
   "execution_count": 11,
   "metadata": {},
   "outputs": [
    {
     "name": "stderr",
     "output_type": "stream",
     "text": [
      "C:\\Users\\mathe\\AppData\\Local\\Temp\\ipykernel_19296\\3095679818.py:2: DtypeWarning: Columns (7,8) have mixed types. Specify dtype option on import or set low_memory=False.\n",
      "  data=pd.read_csv('part-00000-ebc8a297-f0d5-4d27-8064-75cfa16cdf01.c000.csv', sep=';', on_bad_lines='skip')\n"
     ]
    }
   ],
   "source": [
    "#Importando dataset\n",
    "data=pd.read_csv('part-00000-ebc8a297-f0d5-4d27-8064-75cfa16cdf01.c000.csv', sep=';', on_bad_lines='skip')\n",
    "\n",
    "#Creating Cod_Data Column \n",
    "Cod_Data = []\n",
    "for string in data['vacina_dataAplicacao']:\n",
    "    Cod_Data.append(string.replace('-', ''))\n",
    "data['Cod_Data']=Cod_Data\n",
    "\n",
    "#Grouping all the data by the Cod_Data, to count how register we have each day\n",
    "DataFrame = data.groupby('Cod_Data').count().reset_index()\n",
    "dfvacina = pd.DataFrame(data={'Cod_Data':DataFrame['Cod_Data'], 'Count':DataFrame['document_id']})\n",
    "\n",
    "#Creating a column with Cod_Municipio, state and region\n",
    "Cod_municipio = []\n",
    "x=0\n",
    "while x in range (0, len(dfvacina)):\n",
    "    Cod_municipio.extend(['530010.0'])\n",
    "    x=x+1\n",
    "\n",
    "Cod_Estado = []\n",
    "x=0\n",
    "while x in range (0, len(dfvacina)):\n",
    "    Cod_Estado.extend(['53'])\n",
    "    x=x+1\n",
    "\n",
    "Cod_regiao = []\n",
    "x=0\n",
    "while x in range (0, len(dfvacina)):\n",
    "    Cod_regiao.extend(['5'])\n",
    "    x=x+1\n",
    "\n",
    "#Creating a DataFrame to feed the TB_Vacina on DataBank\n",
    "dfvacina = pd.DataFrame(data={'Cod_Data':DataFrame['Cod_Data'], 'Count':DataFrame['document_id'], 'Cod_munincipio':Cod_municipio, 'Cod_Estado':Cod_Estado, 'Cod_regiao':Cod_regiao})\n",
    "pd.DataFrame(data=dfvacina).to_csv('dfvacina.csv', sep=';')\n",
    "\n",
    "\n",
    "\n"
   ]
  },
  {
   "cell_type": "code",
   "execution_count": 13,
   "metadata": {},
   "outputs": [
    {
     "name": "stderr",
     "output_type": "stream",
     "text": [
      "C:\\Users\\mathe\\AppData\\Local\\Temp\\ipykernel_19296\\1213829861.py:2: DtypeWarning: Columns (5,7,8) have mixed types. Specify dtype option on import or set low_memory=False.\n",
      "  data=pd.read_csv('part-00001-ebc8a297-f0d5-4d27-8064-75cfa16cdf01.c000.csv', sep=';', on_bad_lines='skip')\n"
     ]
    }
   ],
   "source": [
    "#Importando dataset\n",
    "data=pd.read_csv('part-00001-ebc8a297-f0d5-4d27-8064-75cfa16cdf01.c000.csv', sep=';', on_bad_lines='skip')\n",
    "\n",
    "#Creating Cod_Data Column \n",
    "Cod_Data = []\n",
    "for string in data['vacina_dataAplicacao']:\n",
    "    Cod_Data.append(string.replace('-', ''))\n",
    "data['Cod_Data']=Cod_Data\n",
    "\n",
    "#Grouping all the data by the Cod_Data, to count how register we have each day\n",
    "DataFrame = data.groupby('Cod_Data').count().reset_index()\n",
    "dfvacina = pd.DataFrame(data={'Cod_Data':DataFrame['Cod_Data'], 'Count':DataFrame['document_id']})\n",
    "\n",
    "#Creating a column with Cod_Municipio, state and region\n",
    "Cod_municipio = []\n",
    "x=0\n",
    "while x in range (0, len(dfvacina)):\n",
    "    Cod_municipio.extend(['530010.0'])\n",
    "    x=x+1\n",
    "\n",
    "Cod_Estado = []\n",
    "x=0\n",
    "while x in range (0, len(dfvacina)):\n",
    "    Cod_Estado.extend(['53'])\n",
    "    x=x+1\n",
    "\n",
    "Cod_regiao = []\n",
    "x=0\n",
    "while x in range (0, len(dfvacina)):\n",
    "    Cod_regiao.extend(['5'])\n",
    "    x=x+1\n",
    "\n",
    "#Creating a DataFrame to feed the TB_Vacina on DataBank\n",
    "dfvacina = pd.DataFrame(data={'Cod_Data':DataFrame['Cod_Data'], 'Count':DataFrame['document_id'], 'Cod_munincipio':Cod_municipio, 'Cod_Estado':Cod_Estado, 'Cod_regiao':Cod_regiao})\n",
    "pd.DataFrame(data=dfvacina).to_csv('dfvacina2.csv', sep=';')\n"
   ]
  },
  {
   "cell_type": "code",
   "execution_count": 14,
   "metadata": {},
   "outputs": [
    {
     "name": "stderr",
     "output_type": "stream",
     "text": [
      "C:\\Users\\mathe\\AppData\\Local\\Temp\\ipykernel_19296\\2334502405.py:2: DtypeWarning: Columns (7,8) have mixed types. Specify dtype option on import or set low_memory=False.\n",
      "  data=pd.read_csv('part-00002-ebc8a297-f0d5-4d27-8064-75cfa16cdf01.c000.csv', sep=';', on_bad_lines='skip')\n"
     ]
    }
   ],
   "source": [
    "#Importando dataset\n",
    "data=pd.read_csv('part-00002-ebc8a297-f0d5-4d27-8064-75cfa16cdf01.c000.csv', sep=';', on_bad_lines='skip')\n",
    "\n",
    "#Creating Cod_Data Column \n",
    "Cod_Data = []\n",
    "for string in data['vacina_dataAplicacao']:\n",
    "    Cod_Data.append(string.replace('-', ''))\n",
    "data['Cod_Data']=Cod_Data\n",
    "\n",
    "#Grouping all the data by the Cod_Data, to count how register we have each day\n",
    "DataFrame = data.groupby('Cod_Data').count().reset_index()\n",
    "dfvacina = pd.DataFrame(data={'Cod_Data':DataFrame['Cod_Data'], 'Count':DataFrame['document_id']})\n",
    "\n",
    "#Creating a column with Cod_Municipio, state and region\n",
    "Cod_municipio = []\n",
    "x=0\n",
    "while x in range (0, len(dfvacina)):\n",
    "    Cod_municipio.extend(['530010.0'])\n",
    "    x=x+1\n",
    "\n",
    "Cod_Estado = []\n",
    "x=0\n",
    "while x in range (0, len(dfvacina)):\n",
    "    Cod_Estado.extend(['53'])\n",
    "    x=x+1\n",
    "\n",
    "Cod_regiao = []\n",
    "x=0\n",
    "while x in range (0, len(dfvacina)):\n",
    "    Cod_regiao.extend(['5'])\n",
    "    x=x+1\n",
    "\n",
    "#Creating a DataFrame to feed the TB_Vacina on DataBank\n",
    "dfvacina = pd.DataFrame(data={'Cod_Data':DataFrame['Cod_Data'], 'Count':DataFrame['document_id'], 'Cod_munincipio':Cod_municipio, 'Cod_Estado':Cod_Estado, 'Cod_regiao':Cod_regiao})\n",
    "pd.DataFrame(data=dfvacina).to_csv('dfvacina3.csv', sep=';')\n"
   ]
  }
 ],
 "metadata": {
  "kernelspec": {
   "display_name": "Python 3.9.13 ('base')",
   "language": "python",
   "name": "python3"
  },
  "language_info": {
   "codemirror_mode": {
    "name": "ipython",
    "version": 3
   },
   "file_extension": ".py",
   "mimetype": "text/x-python",
   "name": "python",
   "nbconvert_exporter": "python",
   "pygments_lexer": "ipython3",
   "version": "3.9.13"
  },
  "orig_nbformat": 4,
  "vscode": {
   "interpreter": {
    "hash": "d674aba619e9128d5d95f68874c090de0e48b8e67c1ba838c5d294b8a6cf0663"
   }
  }
 },
 "nbformat": 4,
 "nbformat_minor": 2
}
